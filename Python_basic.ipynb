{
 "cells": [
  {
   "cell_type": "code",
   "execution_count": 1,
   "id": "8b6fe778",
   "metadata": {},
   "outputs": [
    {
     "name": "stdout",
     "output_type": "stream",
     "text": [
      "Enter an integer:3\n",
      "Weird\n"
     ]
    }
   ],
   "source": [
    "n=int(input(\"Enter an integer:\"))\n",
    "if n<1 or n>100:\n",
    " print(\"not in range\")\n",
    "elif n%2 != 0:\n",
    " print(\"Weird\")\n",
    "elif n%2==0 and n in range(2,5):\n",
    " print(\"Not Weird\")\n",
    "elif n%2==0 and n in range(6,20):\n",
    " print(\"Weird\")\n",
    "elif n%2==0 and n >20:\n",
    " print(\"Not weird\")\n",
    "      "
   ]
  },
  {
   "cell_type": "code",
   "execution_count": 2,
   "id": "1236180c",
   "metadata": {},
   "outputs": [
    {
     "name": "stdout",
     "output_type": "stream",
     "text": [
      "Enter an integer a:3\n",
      "Enter an integer b:5\n",
      "8\n",
      "-2\n",
      "15\n"
     ]
    }
   ],
   "source": [
    "a=int(input(\"Enter an integer a:\"))\n",
    "b=int(input(\"Enter an integer b:\"))\n",
    "print(a+b)\n",
    "print(a-b)\n",
    "print(a*b)"
   ]
  },
  {
   "cell_type": "code",
   "execution_count": 3,
   "id": "c74f433e",
   "metadata": {},
   "outputs": [
    {
     "name": "stdout",
     "output_type": "stream",
     "text": [
      "Enter an integer a:3\n",
      "Enter an integer b:5\n",
      "0\n",
      "0.6\n"
     ]
    }
   ],
   "source": [
    "a=int(input(\"Enter an integer a:\"))\n",
    "b=int(input(\"Enter an integer b:\"))\n",
    "print(int(a/b))\n",
    "print(float(a/b))"
   ]
  },
  {
   "cell_type": "code",
   "execution_count": 4,
   "id": "80e3f61e",
   "metadata": {},
   "outputs": [
    {
     "name": "stdout",
     "output_type": "stream",
     "text": [
      "Enter an integer:3\n",
      "0\n",
      "1\n",
      "4\n"
     ]
    }
   ],
   "source": [
    "n=int(input(\"Enter an integer:\"))\n",
    "for i in range (n):\n",
    "  print(i*i)"
   ]
  },
  {
   "cell_type": "code",
   "execution_count": 5,
   "id": "5c15aa95",
   "metadata": {},
   "outputs": [
    {
     "name": "stdout",
     "output_type": "stream",
     "text": [
      "Enter the year to be checked:2000\n",
      "True\n"
     ]
    }
   ],
   "source": [
    "year=int(input(\"Enter the year to be checked:\"))\n",
    "def is_leap(year):\n",
    "    if year%4==0:\n",
    "        if year %100==0:\n",
    "            if year %400==0:\n",
    "                return True\n",
    "            else:\n",
    "                return False\n",
    "        else:\n",
    "            return True\n",
    "    else:\n",
    "        return False\n",
    "print (is_leap(year))"
   ]
  },
  {
   "cell_type": "code",
   "execution_count": 6,
   "id": "93ecc4a8",
   "metadata": {},
   "outputs": [
    {
     "name": "stdout",
     "output_type": "stream",
     "text": [
      "Enter the value of n:3\n",
      "1\n",
      "2\n",
      "3\n"
     ]
    }
   ],
   "source": [
    "n=int(input(\"Enter the value of n:\"))\n",
    "def fun(n):\n",
    "    for i in range (n):\n",
    "        print(i+1)\n",
    "fun(n)"
   ]
  },
  {
   "cell_type": "code",
   "execution_count": 7,
   "id": "7bcfb6e9",
   "metadata": {},
   "outputs": [
    {
     "name": "stdout",
     "output_type": "stream",
     "text": [
      "Enter x:1\n",
      "Enter y:1\n",
      "Enter z:1\n",
      "Enter n:2\n",
      "[[0, 0, 0], [0, 0, 1], [0, 1, 0], [1, 0, 0], [1, 1, 1]]\n"
     ]
    }
   ],
   "source": [
    "x=int(input(\"Enter x:\"))\n",
    "y=int(input(\"Enter y:\"))\n",
    "z=int(input(\"Enter z:\"))\n",
    "n=int(input(\"Enter n:\"))\n",
    "inlist=[]\n",
    "out=[]\n",
    "for i in range (x+1):\n",
    "    for j in range(y+1):\n",
    "        for k in range(z+1):\n",
    "            if i+j+k!=n:\n",
    "                inlist=[i,j,k]\n",
    "                out.append(inlist)\n",
    "print(out)"
   ]
  },
  {
   "cell_type": "code",
   "execution_count": 8,
   "id": "6ff5670e",
   "metadata": {},
   "outputs": [
    {
     "name": "stdout",
     "output_type": "stream",
     "text": [
      "Enter the no of participants:)5\n",
      "Enter the score of participant 1:)2\n",
      "Enter the score of participant 2:)3\n",
      "Enter the score of participant 3:)6\n",
      "Enter the score of participant 4:)6\n",
      "Enter the score of participant 5:)5\n",
      "6\n"
     ]
    }
   ],
   "source": [
    "x=int(input(\"Enter the no of participants:)\"))\n",
    "a=[]\n",
    "for i in range (x):\n",
    "    y=int(input(\"Enter the score of participant \"+str(i+1)+\":)\"))\n",
    "    a.append(y)\n",
    "for i in range (x-1):\n",
    "  for j in range (i+1,x-i-1):\n",
    "        \n",
    "        if a[j] < a[i]:\n",
    "         temp=a[j]\n",
    "         a[j]=a[i]\n",
    "         a[i]=temp\n",
    "print(a[x-2])"
   ]
  },
  {
   "cell_type": "code",
   "execution_count": 34,
   "id": "f11d9760",
   "metadata": {},
   "outputs": [
    {
     "name": "stdout",
     "output_type": "stream",
     "text": [
      "5\n",
      "Harry\n",
      "37.21\n",
      "Berry\n",
      "37.21\n",
      "Tina\n",
      "37.2\n",
      "Akriti\n",
      "41\n",
      "Harsh\n",
      "39\n",
      "Berry\n",
      "Harry\n"
     ]
    }
   ],
   "source": [
    "records=[]\n",
    "scores=[]\n",
    "final=[]\n",
    "n=int(input())\n",
    "for i in range(n):\n",
    "    name=input()\n",
    "    score=float(input())\n",
    "    records.append([name,score])\n",
    "    scores.append(score)\n",
    "scores.sort()\n",
    "for i in range(len(scores)):\n",
    "    if scores[i]<scores[i+1]:\n",
    "        x=scores[i+1]\n",
    "        break\n",
    "for i in range(n):\n",
    "  if records[i][1]==x:\n",
    "    final.append(records[i][0])\n",
    "    final.sort()\n",
    "for j in range(len(final)):\n",
    "  print(final[j])"
   ]
  },
  {
   "cell_type": "code",
   "execution_count": 41,
   "id": "121ba35c",
   "metadata": {},
   "outputs": [
    {
     "name": "stdout",
     "output_type": "stream",
     "text": [
      "3\n",
      "Krishna 67 68 69\n",
      "Arjun 70 98 63\n",
      "Malika 52 56 60\n",
      "Malika\n",
      "56.000000\n"
     ]
    }
   ],
   "source": [
    "n=int(input())\n",
    "student_marks={}\n",
    "for i in range(n):\n",
    "    name,*line =input().split()\n",
    "    scores=list(map(float,line))\n",
    "    student_marks[name] = scores\n",
    "query_name=input()\n",
    "output=list(student_marks[query_name])\n",
    "per=sum(output)/len(output);\n",
    "print(\"%2f\" % per)"
   ]
  },
  {
   "cell_type": "code",
   "execution_count": 17,
   "id": "6bf56dad",
   "metadata": {},
   "outputs": [
    {
     "name": "stdout",
     "output_type": "stream",
     "text": [
      "12\n",
      "insert 0 5\n",
      "insert 1 10\n",
      "insert 0 6\n",
      "print\n",
      "[6, 5, 10]\n",
      "remove 6\n",
      "append 9\n",
      "append 1\n",
      "sort\n",
      "print\n",
      "[1, 5, 9, 10]\n",
      "pop\n",
      "reverse\n",
      "print\n",
      "[9, 5, 1]\n"
     ]
    }
   ],
   "source": [
    "n=int(input())\n",
    "output=[]\n",
    "for i in range(0,n):\n",
    "    p=input().split();\n",
    "    if p[0]==\"print\":\n",
    "        print(output)\n",
    "    elif p[0]==\"insert\":\n",
    "        output.insert(int(p[1]),int(p[2]))\n",
    "    elif p[0]==\"remove\":\n",
    "        output.remove(int(p[1]))\n",
    "    elif p[0]==\"pop\":\n",
    "        output.pop()\n",
    "    elif p[0]==\"append\":\n",
    "         output.append(int(p[1]))\n",
    "    elif p[0]==\"sort\":\n",
    "        output.sort()\n",
    "    else:\n",
    "        output.reverse()"
   ]
  },
  {
   "cell_type": "code",
   "execution_count": 22,
   "id": "a5e61d37",
   "metadata": {},
   "outputs": [
    {
     "name": "stdout",
     "output_type": "stream",
     "text": [
      "2\n",
      "1 2\n",
      "-3550055125485641917\n"
     ]
    }
   ],
   "source": [
    "n=int(input())\n",
    "intlist=map(int, input().split())\n",
    "t=tuple(intlist)\n",
    "print(hash(t))"
   ]
  },
  {
   "cell_type": "code",
   "execution_count": null,
   "id": "eee02807",
   "metadata": {},
   "outputs": [],
   "source": []
  }
 ],
 "metadata": {
  "kernelspec": {
   "display_name": "Python 3 (ipykernel)",
   "language": "python",
   "name": "python3"
  },
  "language_info": {
   "codemirror_mode": {
    "name": "ipython",
    "version": 3
   },
   "file_extension": ".py",
   "mimetype": "text/x-python",
   "name": "python",
   "nbconvert_exporter": "python",
   "pygments_lexer": "ipython3",
   "version": "3.10.2"
  }
 },
 "nbformat": 4,
 "nbformat_minor": 5
}
